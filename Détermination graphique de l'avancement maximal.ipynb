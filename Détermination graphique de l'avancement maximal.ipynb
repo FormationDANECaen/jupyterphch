{
 "cells": [
  {
   "cell_type": "markdown",
   "metadata": {},
   "source": [
    "# Détermination graphique de l'avancement maximal d'une réaction chimique"
   ]
  },
  {
   "cell_type": "markdown",
   "metadata": {},
   "source": [
    "Il s'agit d'exploiter les variations des quantités de matière des réactifs pour estimer graphiquement la valeur de l'avancement maximal de la réaction.\n",
    "Les commandes ci-dessous permettent de tracer progressivement les variations des nombres de moles des réactifs et produits en vue de la détermination graphique de l'avancement maximal x<sub>max</sub>."
   ]
  },
  {
   "cell_type": "code",
   "execution_count": 1,
   "metadata": {},
   "outputs": [],
   "source": [
    "import matplotlib as plt\n",
    "import numpy"
   ]
  },
  {
   "cell_type": "markdown",
   "metadata": {},
   "source": [
    "On considère la réaction de combustion du méthane donnée ci-dessous :  \n",
    "CH<sub>4</sub> + 2 O<sub>2</sub> -> CO<sub>2</sub> + 2 H<sub>2</sub>O"
   ]
  },
  {
   "cell_type": "code",
   "execution_count": null,
   "metadata": {},
   "outputs": [],
   "source": []
  }
 ],
 "metadata": {
  "kernelspec": {
   "display_name": "Python 3",
   "language": "python",
   "name": "python3"
  },
  "language_info": {
   "codemirror_mode": {
    "name": "ipython",
    "version": 3
   },
   "file_extension": ".py",
   "mimetype": "text/x-python",
   "name": "python",
   "nbconvert_exporter": "python",
   "pygments_lexer": "ipython3",
   "version": "3.6.8"
  }
 },
 "nbformat": 4,
 "nbformat_minor": 4
}
