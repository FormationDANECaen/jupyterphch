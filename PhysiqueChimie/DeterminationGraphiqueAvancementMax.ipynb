{
 "cells": [
  {
   "cell_type": "markdown",
   "metadata": {},
   "source": [
    "# Détermination graphique de l'avancement maximal d'une réaction chimique"
   ]
  },
  {
   "cell_type": "markdown",
   "metadata": {},
   "source": [
    "Il s'agit d'exploiter les variations des quantités de matière des réactifs pour estimer **graphiquement** la valeur de l'avancement maximal de la réaction.\n",
    "Pour exécuter les cellules de code Pyton de cette page : cliquer sur la cellule et utiliser la combinaison de touches MAJ + ENTRÉE. Certaines cellules ne renvoie rien mais doivent quand même être exécutées.\n",
    "On se propose de détailler la méthode pour tracer progressivement les variations des nombres de moles des réactifs et produits en fonction de l'avancement *x*, en vue de la détermination graphique de l'avancement maximal x<sub>max</sub>.\n",
    "Les zones à compléter dans les cellules de code sont matérialisées par des **.......................**"
   ]
  },
  {
   "cell_type": "code",
   "execution_count": null,
   "metadata": {},
   "outputs": [],
   "source": [
    "# On commence par importer les bibliothèques permettant de tracer des graphiques\n",
    "# et de gérer des tableaux de valeurs\n",
    "import matplotlib.pyplot as plt  # On utilise le nom raccourci plt au lieu de pyplot\n",
    "%matplotlib inline\n",
    "import numpy as np  # On utilise le nom raccourci np au lieu de numpy"
   ]
  },
  {
   "cell_type": "markdown",
   "metadata": {},
   "source": [
    "## Composition initiale du système chimique##"
   ]
  },
  {
   "cell_type": "markdown",
   "metadata": {},
   "source": [
    "On considère la réaction de combustion du méthane donnée ci-dessous :  \n",
    "CH<sub>4</sub> + 2 O<sub>2</sub> -> CO<sub>2</sub> + 2 H<sub>2</sub>O"
   ]
  },
  {
   "cell_type": "markdown",
   "metadata": {},
   "source": [
    "Le réactif n°1 est le méthane CH<sub>4</sub>.</br>\n",
    "Le réactif n°2 est le dioxygène O<sub>2</sub>.</br>\n",
    "Les quantités de matière des réactifs et produits ainsi que l'avancement sont stockés dans des tableaux.\n",
    "La première valeur du tableau contient la quantité de matière initiale du réactif ou produit concerné.\n",
    "On utilise dans un premier temps :\n",
    "* Quantité de matière initiale de méthane : 0.5 mol\n",
    "* quantité de matière initiale de dioxygène : 1.25 mol\n",
    "* **On considère que les quantités de matière initiales des produits de la réaction sont nulles.**\n",
    "Une fois complétée, exécutez la cellule ci-dessous. Elle ne doit renvoyer aucun code d'erreur."
   ]
  },
  {
   "cell_type": "code",
   "execution_count": null,
   "metadata": {},
   "outputs": [],
   "source": [
    "x = np.array([0])  # x est un tableau dont la première valeur est 0\n",
    "dx = 0.005  # Lors des calculs, l'avancement x varie par pas de 0.005 mol\n",
    "nMethane = np.array([0.5])  # On fixe à 0.5 mol la qdm initiale de méthane.\n",
    "nDioxygene = ............  # Compléter cette ligne pour que la première valeru du tableau contienne la qdm initiale de O2\n",
    "nDioxydeC = ............  # À compléter comme précédemment\n",
    "nEau = ............  # À compléter comme précédemment"
   ]
  },
  {
   "cell_type": "markdown",
   "metadata": {},
   "source": [
    "## Évolution des quantités de matière en fonction de l'avancement x ##\n",
    "Afin de poursuivre, répondez dans un premier temps aux questions suivantes.\n",
    "1. Construire le tableau d'avancement de la réaction.\n",
    "2. Relever les expressions des quantités de matière des réactifs et produits en cours de réaction en fonction de l'avancement x.\n",
    "3. À quelle condition sur les quantités de matière des réactifs la réaction est terminée ? "
   ]
  },
  {
   "cell_type": "markdown",
   "metadata": {},
   "source": [
    "Utilisez les réponses aux questions précédentes pour compléter les lignes de programme ci-dessous.\n",
    "Puis exécutez la cellule."
   ]
  },
  {
   "cell_type": "code",
   "execution_count": null,
   "metadata": {},
   "outputs": [],
   "source": [
    "while (............) and (............):\n",
    "    x = np.append(x, x[-1] + dx)\n",
    "    nMethane = np.append(nMethane, ...................)\n",
    "    nDioxygene = np.append(nDioxygene, ................)\n",
    "    nDioxydeC = np.append(nDioxydeC, ..................)\n",
    "    nEau = np.append(nEau, ......................)"
   ]
  },
  {
   "cell_type": "markdown",
   "metadata": {},
   "source": [
    "## Tracé des représentations graphiques##"
   ]
  },
  {
   "cell_type": "markdown",
   "metadata": {},
   "source": [
    "Si l'exécution de la cellule précédente ne renvoie pas d'erreur, exécutez la cellule ci-dessous permettant d'obtenir les représentations graphiques."
   ]
  },
  {
   "cell_type": "code",
   "execution_count": null,
   "metadata": {},
   "outputs": [],
   "source": [
    "\"\"\"NE PAS MODIFIER LES LIGNES CI-DESSOUS\n",
    "ELLES SERVENT AU TRACÉ DES VARIATIONS DES QUANTITÉS DE MATIÈRE\"\"\"\n",
    "\n",
    "plt.plot(x, nMethane,label = \"Méthane\")  # On trace les variations de la quantité de matière de méthane\n",
    "plt.plot(x, nDioxygene,label = \"Dioxygène\")  # On trace les variations de la quantité de matière de dioxygène\n",
    "plt.plot(x, nDioxydeC, label = \"Dioxyde de carbone\")  # On trace les variations de la quantité de matière de CO2\n",
    "plt.plot(x, nEau, label = \"Eau\")  # On trace les variations de la quantité de matière d'eau\n",
    "plt.xlabel(\"x (mol)\")  # Étiquette de l'axe des abscisses\n",
    "plt.ylabel(\"Quantités de matière (mol)\")  # Étiquette de l'axe des ordonnées\n",
    "plt.legend()  # Affichage de la légende, à partir des 'label' utilisés dans les commades plt.plot()\n",
    "plt.grid()  # Affichage du quadrillage du graphique\n",
    "plt.axis([0, x[-1], 0, max(nMethane[0], nDioxygene[0])])  # Définition des bornes des axes des abscisses et ordonnées\n",
    "plt.show()  # Affichage du graphique"
   ]
  },
  {
   "cell_type": "markdown",
   "metadata": {},
   "source": [
    "## Interprétation des représentations graphiques ##"
   ]
  },
  {
   "cell_type": "markdown",
   "metadata": {},
   "source": [
    "À partir des représentations graphiques répondez aux questions suivantes :\n",
    "1. Quel est le réactif limitant dans la situation décrite dans l'énoncé initial ?\n",
    "2. Estimez graphiquement la valeur de l'avancement maximal.\n",
    "3. estimez graphiquement les quantités de matière en fin de réaction pour l'ensemble des constituants du système.\n",
    "4. Modifiez les quantités de matière initiales de la façon suivante et notez les changements dans l'évolution du sytème chimique.\n",
    "* n<sub>0</sub>(CH4)=2.0 mol\n",
    "* n<sub>0</sub>(O2)=0.75 mol"
   ]
  },
  {
   "cell_type": "markdown",
   "metadata": {},
   "source": [
    "## Pour aller plus loin - Adaptation à l'étude d'une autre réaction chimique##"
   ]
  },
  {
   "cell_type": "markdown",
   "metadata": {},
   "source": [
    "On considère maintenant la réaction de combustion de l'éthanol donnée ci-dessous :  \n",
    "C<sub>2</sub>H<sub>6</sub>O + 3 O<sub>2</sub> -> 2 CO<sub>2</sub> + 3 H<sub>2</sub>O\n",
    "On utilise les quantités de matière initiales suivantes :\n",
    "* Quantité de matière initiale d'éthanol : 2.0 mol\n",
    "* quantité de matière initiale de dioxygène : 1.25 mol\n",
    "* **On considère que les quantités de matière initiales des produits de la réaction sont nulles.**"
   ]
  },
  {
   "cell_type": "markdown",
   "metadata": {},
   "source": [
    "En vous basant sur ce qui a été fait précédemment, écrivez le programme permettant d'étudier cette réaction chimique.\n",
    "Vous pouvez copier ce qui a été fait précédemment puis modifier les noms de variables, les étiquettes du graphique afin de correspondre à la réaction étudiée.\n",
    "Vous pouvez utiliser la cellule de code vide ci-dessous."
   ]
  },
  {
   "cell_type": "code",
   "execution_count": null,
   "metadata": {},
   "outputs": [],
   "source": [
    "import matplotlib.pyplot as plt  # On utilise le nom raccourci plt au lieu de pyplot\n",
    "%matplotlib inline\n",
    "import numpy as np  # On utilise le nom raccourci np au lieu de numpy"
   ]
  }
 ],
 "metadata": {
  "kernelspec": {
   "display_name": "Python 3",
   "language": "python",
   "name": "python3"
  },
  "language_info": {
   "codemirror_mode": {
    "name": "ipython",
    "version": 3
   },
   "file_extension": ".py",
   "mimetype": "text/x-python",
   "name": "python",
   "nbconvert_exporter": "python",
   "pygments_lexer": "ipython3",
   "version": "3.6.8"
  }
 },
 "nbformat": 4,
 "nbformat_minor": 4
}
