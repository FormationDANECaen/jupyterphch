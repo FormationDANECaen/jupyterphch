{
 "cells": [
  {
   "cell_type": "markdown",
   "metadata": {},
   "source": [
    "# Réaction de l'acide chlorhydrique sur le magnésium - Détermination graphique de l'avancement maximal #"
   ]
  },
  {
   "cell_type": "markdown",
   "metadata": {},
   "source": [
    "Il s'agit d'exploiter les variations des quantités de matière des réactifs pour estimer **graphiquement** la valeur de l'avancement maximal de la réaction.\n",
    "Pour exécuter les cellules de code Pyton de cette page : cliquer sur la cellule et utiliser la combinaison de touches MAJ + ENTRÉE. Certaines cellules ne renvoie rien mais doivent quand même être exécutées.\n",
    "\n",
    "On se propose de détailler la méthode pour tracer progressivement les variations des nombres de moles des réactifs et produits en fonction de l'avancement *x*, en vue de la détermination graphique de l'avancement maximal x<sub>max</sub>.\n",
    "\n",
    "Les zones à compléter dans les cellules de code sont matérialisées par des **.......................**"
   ]
  },
  {
   "cell_type": "code",
   "execution_count": null,
   "metadata": {},
   "outputs": [],
   "source": [
    "\"\"\"On commence par importer les bibliothèques permettant de tracer des graphiques\n",
    "et de gérer des tableaux de valeurs\"\"\"\n",
    "import matplotlib.pyplot as plt  # On utilise le nom raccourci plt au lieu de pyplot\n",
    "%matplotlib inline\n",
    "import numpy as np  # On utilise le nom raccourci np au lieu de numpy"
   ]
  },
  {
   "cell_type": "markdown",
   "metadata": {},
   "source": [
    "## Composition initiale du système chimique##"
   ]
  },
  {
   "cell_type": "markdown",
   "metadata": {},
   "source": [
    "On considère la réaction entre les ions oxonium d'une solution d'acide chlorhydrique et le magnésium donnée ci-dessous :  \n",
    "Mg + 2 H<sup>+</sup> -> Mg<sup>2+</sup> + H<sub>2</sub>"
   ]
  },
  {
   "cell_type": "markdown",
   "metadata": {},
   "source": [
    "* Le réactif n°1 est le magnésium Mg.<br>\n",
    "* Le réactif n°2 est l'ion oxonium H<sup>+</sup>.<br>\n",
    "Les quantités de matière des réactifs et produits ainsi que l'avancement sont stockés dans des tableaux.\n",
    "La première valeur du tableau contient la quantité de matière initiale du réactif ou produit concerné.\n",
    "\n",
    "On utilise les quantités de matière réelles du TP :\n",
    "* Quantité de matière initiale de magnésium : 0.0082 mol\n",
    "* quantité de matière initiale d'ions oxonium : 0.024 mol\n",
    "* **On considère que les quantités de matière initiales des produits de la réaction sont nulles.**\n",
    "\n",
    "Une fois complétée, exécutez la cellule ci-dessous. Elle ne doit renvoyer aucun code d'erreur."
   ]
  },
  {
   "cell_type": "code",
   "execution_count": null,
   "metadata": {},
   "outputs": [],
   "source": [
    "x = np.array([0])  # x est un tableau dont la première valeur est 0\n",
    "dx = 0.0005  # Lors des calculs, l'avancement x varie par pas de 0.0005 mol\n",
    "nMg= np.array([0.0082])  # On fixe à 0.0082 mol la qdm initiale de magnésium.\n",
    "nH = ............  # Compléter cette ligne pour que la première valeur du tableau contienne la qdm initiale d'ions H+\n",
    "nIonMg = ............  # À compléter comme précédemment\n",
    "nH2 = ............  # À compléter comme précédemment"
   ]
  },
  {
   "cell_type": "markdown",
   "metadata": {},
   "source": [
    "## Évolution des quantités de matière en fonction de l'avancement x ##\n",
    "Afin de poursuivre, répondez dans un premier temps aux questions suivantes en vous reportant au tableau d'avancement de la réaction fourni dans la fiche de TP.\n",
    "1. Relever les expressions des quantités de matière des réactifs et produits en cours de réaction en fonction de l'avancement x.\n",
    "2. À quelle condition sur les quantités de matière des réactifs la réaction est terminée si on la considère comme totale ? "
   ]
  },
  {
   "cell_type": "markdown",
   "metadata": {},
   "source": [
    "Utilisez les réponses aux questions précédentes pour compléter les lignes de programme ci-dessous.\n",
    "Puis exécutez la cellule."
   ]
  },
  {
   "cell_type": "code",
   "execution_count": null,
   "metadata": {},
   "outputs": [],
   "source": [
    "while (............) and (............):  # La boucle s'exécute tant que la réaction chimique n'est pas terminée\n",
    "    x = np.append(x, x[-1] + dx)  # On construit les listes pas à pas, en ajoutant une nouvelle valeur en fin de liste (append)\n",
    "    nMg = np.append(nMg, nMg[0] - x[-1])  # On ajoute en fin de tableau la quantité de matière calculée à partir de la dernière valeur de l'avancement x\n",
    "    nH = np.append(nH, ................)\n",
    "    nIonMg = np.append(nIonMg, ..................)\n",
    "    nH2 = np.append(nH2, ......................)"
   ]
  },
  {
   "cell_type": "markdown",
   "metadata": {},
   "source": [
    "## Tracé des représentations graphiques##"
   ]
  },
  {
   "cell_type": "markdown",
   "metadata": {},
   "source": [
    "Si l'exécution de la cellule précédente ne renvoie pas d'erreur, exécutez la cellule ci-dessous permettant d'obtenir les représentations graphiques."
   ]
  },
  {
   "cell_type": "code",
   "execution_count": null,
   "metadata": {},
   "outputs": [],
   "source": [
    "\"\"\"NE PAS MODIFIER LES LIGNES CI-DESSOUS\n",
    "ELLES SERVENT AU TRACÉ DES VARIATIONS DES QUANTITÉS DE MATIÈRE\"\"\"\n",
    "\n",
    "plt.plot(x, nMg,label = \"Mg\")  # On trace les variations de la quantité de matière de magnésium\n",
    "plt.plot(x, nH,label = \"H+\")  # On trace les variations de la quantité de matière d'oxonium\n",
    "plt.plot(x, nIonMg, label = \"Mg2+\")  # On trace les variations de la quantité de matière d'ions Mg2+\n",
    "plt.plot(x, nH2, label = \"H2\")  # On trace les variations de la quantité de matière de H2\n",
    "plt.xlabel(\"x (mol)\")  # Étiquette de l'axe des abscisses\n",
    "plt.ylabel(\"Quantités de matière (mol)\")  # Étiquette de l'axe des ordonnées\n",
    "plt.legend()  # Affichage de la légende, à partir des 'label' utilisés dans les commades plt.plot()\n",
    "plt.grid()  # Affichage du quadrillage du graphique\n",
    "plt.axis([0, x[-1], 0, max(nMg[0], nH[0])])  # Définition des bornes des axes des abscisses et ordonnées\n",
    "plt.show()  # Affichage du graphique"
   ]
  },
  {
   "cell_type": "markdown",
   "metadata": {},
   "source": [
    "## Interprétation des représentations graphiques ##"
   ]
  },
  {
   "cell_type": "markdown",
   "metadata": {},
   "source": [
    "À partir des représentations graphiques répondez aux questions suivantes :\n",
    "1. D'après les représentations graphiques, quel est le réactif limitant ?\n",
    "2. Cela correspond-il à ce que vous avez observé lors de la séance de travaux pratiques ?\n",
    "2. Estimez graphiquement la valeur de l'avancement maximal.\n",
    "3. Estimez graphiquement les quantités de matière en fin de réaction pour l'ensemble des constituants du système.\n",
    "4. Modifiez les quantités de matière initiales de façon à ce que **les deux réactifs soient totalement consommés en même temps.** Quel est le lien entre ces deux quantités de matière dans ce cas particulier ?"
   ]
  }
 ],
 "metadata": {
  "kernelspec": {
   "display_name": "Python 3",
   "language": "python",
   "name": "python3"
  },
  "language_info": {
   "codemirror_mode": {
    "name": "ipython",
    "version": 3
   },
   "file_extension": ".py",
   "mimetype": "text/x-python",
   "name": "python",
   "nbconvert_exporter": "python",
   "pygments_lexer": "ipython3",
   "version": "3.6.9"
  }
 },
 "nbformat": 4,
 "nbformat_minor": 4
}
